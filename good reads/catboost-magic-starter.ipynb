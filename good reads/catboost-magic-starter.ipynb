{
 "cells": [
  {
   "cell_type": "code",
   "execution_count": 1,
   "metadata": {},
   "outputs": [],
   "source": [
    "# Minimalistic version of the catbost model using several \"magical\" features. The idea can be developed further."
   ]
  },
  {
   "cell_type": "code",
   "execution_count": 2,
   "metadata": {
    "_cell_guid": "b1076dfc-b9ad-4769-8c92-a6c4dae69d19",
    "_uuid": "8f2839f25d086af736a60e9eeb907d3b93b6e0e5"
   },
   "outputs": [],
   "source": [
    "import numpy as np\n",
    "import gc, os\n",
    "import pandas as pd\n",
    "import numpy as np\n",
    "import catboost as ctb\n",
    "from sklearn.metrics import roc_auc_score\n",
    "from sklearn.model_selection import StratifiedKFold\n",
    "from tqdm import tqdm\n",
    "\n",
    "from scipy.stats import gmean\n",
    "import warnings\n",
    "warnings.filterwarnings('ignore')\n",
    "\n",
    "pd.set_option('display.max_columns', 200)\n",
    "pd.set_option('display.max_rows', 200)"
   ]
  },
  {
   "cell_type": "code",
   "execution_count": 3,
   "metadata": {
    "_cell_guid": "79c7e3d0-c299-4dcb-8224-4455121ee9b0",
    "_uuid": "d629ff2d2480ee46fbb7e2d37f6b5fab8052498a"
   },
   "outputs": [],
   "source": [
    "VERSION = 3\n",
    "SEED = 42"
   ]
  },
  {
   "cell_type": "code",
   "execution_count": 4,
   "metadata": {},
   "outputs": [],
   "source": [
    "test_df_src = pd.read_csv('../input/santander-customer-transaction-prediction/test.csv') \n",
    "train_df_src = pd.read_csv('../input/santander-customer-transaction-prediction/train.csv')\n",
    "with open('../input/data-separation/synthetic_samples_indexes.npy', 'rb') as f:\n",
    "    test_synth = np.load(f)\n",
    "    test_synth = list(test_synth)\n",
    "with open('../input/data-separation/public_LB.npy', 'rb') as f:\n",
    "    test_pub = np.load(f)  \n",
    "    test_pub = list(test_pub.reshape(-1)[0])\n",
    "with open('../input/data-separation/private_LB.npy', 'rb') as f:\n",
    "    test_priv = np.load(f)  \n",
    "    test_priv = list(test_priv.reshape(-1)[0])\n"
   ]
  },
  {
   "cell_type": "code",
   "execution_count": 5,
   "metadata": {},
   "outputs": [],
   "source": [
    "var_cols = [c for c in list(train_df_src.columns) if 'var_' in c]"
   ]
  },
  {
   "cell_type": "code",
   "execution_count": 6,
   "metadata": {},
   "outputs": [],
   "source": [
    "all_df_real = pd.concat([train_df_src, test_df_src.loc[test_pub + test_priv]],\n",
    "                        axis=0, copy=False, sort=False).set_index('ID_code').astype('float32')\n",
    "all_df_synth = pd.concat([train_df_src, test_df_src.loc[test_synth]],\n",
    "                        axis=0, copy=False, sort=False).set_index('ID_code').astype('float32')"
   ]
  },
  {
   "cell_type": "code",
   "execution_count": 7,
   "metadata": {},
   "outputs": [],
   "source": [
    "def get_all_freq(df, columns, frqs_series=None):\n",
    "    freq_df = pd.DataFrame(index=df.index)\n",
    "    f_s = frqs_series if frqs_series else {}\n",
    "    for col in tqdm(columns):        \n",
    "        if not frqs_series:\n",
    "            f_s[col] = df[f'{col}'].value_counts()\n",
    "        freq_df[f'{col}_freq_N'] = df[f'{col}'].map(f_s[col])        \n",
    "        freq_df[f'{col}_freq_1'] = (freq_df[f'{col}_freq_N'] > 1).astype('category')\n",
    "        freq_df[f'{col}_mul_freq'] = df[col]*freq_df[f'{col}_freq_N']\n",
    "        freq_df[f'{col}_div_freq'] = df[col]/freq_df[f'{col}_freq_N']          \n",
    "    return freq_df, f_s"
   ]
  },
  {
   "cell_type": "code",
   "execution_count": 8,
   "metadata": {},
   "outputs": [
    {
     "name": "stderr",
     "output_type": "stream",
     "text": [
      "100%|██████████| 200/200 [02:41<00:00,  1.89s/it]\n",
      "100%|██████████| 200/200 [02:35<00:00,  1.87s/it]\n"
     ]
    }
   ],
   "source": [
    "all_df_real_uflag, f_s = get_all_freq(all_df_real, var_cols)\n",
    "all_df_synth_uflag, f_s = get_all_freq(all_df_synth, var_cols, f_s)\n",
    "\n",
    "all_df_real = pd.concat([all_df_real, all_df_real_uflag],\n",
    "                        axis=1, copy=False, sort=False)\n",
    "all_df_synth = pd.concat([all_df_synth, all_df_synth_uflag],\n",
    "                         axis=1, copy=False, sort=False)\n",
    "\n",
    "train_df = all_df_real[all_df_real.index.str.contains('train') | all_df_real.index.str.contains('pred')].copy()\n",
    "train_df = train_df.loc[train_df_src['ID_code']]\n"
   ]
  },
  {
   "cell_type": "code",
   "execution_count": 9,
   "metadata": {},
   "outputs": [
    {
     "data": {
      "text/plain": [
       "63"
      ]
     },
     "execution_count": 9,
     "metadata": {},
     "output_type": "execute_result"
    }
   ],
   "source": [
    "del all_df_real_uflag, all_df_synth_uflag, train_df_src\n",
    "gc.collect()"
   ]
  },
  {
   "cell_type": "code",
   "execution_count": 10,
   "metadata": {},
   "outputs": [],
   "source": [
    "test_df_real = all_df_real[all_df_real.index.str.contains('test')]\n",
    "test_df_synth = all_df_synth[all_df_synth.index.str.contains('test')]\n",
    "test_df = pd.concat([test_df_real, test_df_synth], axis=0, copy=True, sort=False)\n",
    "test_df = test_df.loc[test_df_src['ID_code']]"
   ]
  },
  {
   "cell_type": "code",
   "execution_count": 11,
   "metadata": {},
   "outputs": [
    {
     "data": {
      "text/plain": [
       "39"
      ]
     },
     "execution_count": 11,
     "metadata": {},
     "output_type": "execute_result"
    }
   ],
   "source": [
    "del all_df_real, all_df_synth, test_df_src\n",
    "gc.collect()"
   ]
  },
  {
   "cell_type": "code",
   "execution_count": 12,
   "metadata": {},
   "outputs": [],
   "source": [
    "features = [c for c in train_df.columns if c not in ['ID_code', 'target']]\n",
    "target = train_df['target']"
   ]
  },
  {
   "cell_type": "code",
   "execution_count": 13,
   "metadata": {},
   "outputs": [],
   "source": [
    "def add_freq(df):\n",
    "    df_res = pd.DataFrame(index=df.index)\n",
    "    for c in tqdm(var_cols):\n",
    "        df_res[f'{c}_freq_mean'] = df.groupby(f'{c}_freq_1')[c].transform(np.mean).astype('float32')       \n",
    "        df_res[f'{c}_freq_mean_unq'] = df[c]\n",
    "        idx = df[df[f'{c}_freq_1']==False].index\n",
    "        df_res.loc[idx, [f'{c}_freq_mean_unq']] = df_res.loc[idx][f'{c}_freq_mean_unq'].mean()\n",
    "        df_res[f'{c}_freq_std'] = df.groupby(f'{c}_freq_1')[c].transform(np.std).astype('float32')\n",
    "    return df_res\n",
    "\n",
    "    \n",
    "def add_features(df):\n",
    "    df_count = add_freq(df)\n",
    "    colums = [f'{x}_freq_N' for x in var_cols] + \\\n",
    "             [f'{x}_freq_1' for x in var_cols] + \\\n",
    "             [f'{x}_mul_freq' for x in var_cols] + \\\n",
    "             ['target']\n",
    "    res = pd.concat([df[colums], df_count], axis=1, copy=False, sort=False)\n",
    "    return res\n"
   ]
  },
  {
   "cell_type": "code",
   "execution_count": 14,
   "metadata": {},
   "outputs": [],
   "source": [
    "param = {\n",
    "    'random_seed': SEED,\n",
    "    'gpu_ram_part': 0.95,\n",
    "    'iterations': 200000,\n",
    "    'learning_rate': 0.04,\n",
    "    'l2_leaf_reg': 5,\n",
    "    'depth': 1,\n",
    "    'thread_count': 4,\n",
    "    'custom_metric': ['Logloss', 'AUC:hints=skip_train~false'],\n",
    "    'od_type': 'Iter',\n",
    "    'od_wait': 500,\n",
    "    'task_type': 'GPU',\n",
    "    'eval_metric': 'AUC',\n",
    "    'use_best_model': True\n",
    "}\n"
   ]
  },
  {
   "cell_type": "code",
   "execution_count": 15,
   "metadata": {},
   "outputs": [
    {
     "name": "stdout",
     "output_type": "stream",
     "text": [
      "Training the Model:\n",
      "Fold idx:1\n"
     ]
    },
    {
     "name": "stderr",
     "output_type": "stream",
     "text": [
      "100%|██████████| 200/200 [01:25<00:00,  1.34it/s]\n",
      "100%|██████████| 200/200 [00:21<00:00,  5.84it/s]\n"
     ]
    },
    {
     "name": "stdout",
     "output_type": "stream",
     "text": [
      "0:\tlearn: 0.5003349\ttest: 0.5012853\tbest: 0.5012853 (0)\ttotal: 14.3ms\tremaining: 47m 34s\n",
      "5000:\tlearn: 0.9113664\ttest: 0.9028375\tbest: 0.9028375 (5000)\ttotal: 48.6s\tremaining: 31m 36s\n",
      "10000:\tlearn: 0.9240053\ttest: 0.9148424\tbest: 0.9148461 (9995)\ttotal: 1m 37s\tremaining: 30m 49s\n",
      "15000:\tlearn: 0.9284670\ttest: 0.9183331\tbest: 0.9183356 (14999)\ttotal: 2m 27s\tremaining: 30m 13s\n",
      "20000:\tlearn: 0.9308599\ttest: 0.9196522\tbest: 0.9196570 (19969)\ttotal: 3m 14s\tremaining: 29m 9s\n",
      "25000:\tlearn: 0.9324611\ttest: 0.9201638\tbest: 0.9201714 (24788)\ttotal: 4m 1s\tremaining: 28m 9s\n",
      "30000:\tlearn: 0.9336808\ttest: 0.9203852\tbest: 0.9203852 (30000)\ttotal: 4m 47s\tremaining: 27m 7s\n",
      "35000:\tlearn: 0.9346292\ttest: 0.9205505\tbest: 0.9205627 (34340)\ttotal: 5m 35s\tremaining: 26m 22s\n",
      "bestTest = 0.9205631614\n",
      "bestIteration = 35182\n",
      "Shrink model to first 35183 iterations.\n"
     ]
    },
    {
     "name": "stderr",
     "output_type": "stream",
     "text": [
      "100%|██████████| 200/200 [00:17<00:00,  8.45it/s]\n",
      "100%|██████████| 200/200 [01:26<00:00,  1.48it/s]\n"
     ]
    },
    {
     "name": "stdout",
     "output_type": "stream",
     "text": [
      "Fold idx:2\n"
     ]
    },
    {
     "name": "stderr",
     "output_type": "stream",
     "text": [
      "100%|██████████| 200/200 [01:23<00:00,  1.38it/s]\n",
      "100%|██████████| 200/200 [00:20<00:00,  6.06it/s]\n"
     ]
    },
    {
     "name": "stdout",
     "output_type": "stream",
     "text": [
      "0:\tlearn: 0.5004244\ttest: 0.5009275\tbest: 0.5009275 (0)\ttotal: 11.1ms\tremaining: 37m 8s\n",
      "5000:\tlearn: 0.9121085\ttest: 0.8972465\tbest: 0.8972465 (5000)\ttotal: 48.3s\tremaining: 31m 21s\n",
      "10000:\tlearn: 0.9251766\ttest: 0.9100738\tbest: 0.9100738 (10000)\ttotal: 1m 35s\tremaining: 30m 7s\n",
      "15000:\tlearn: 0.9295444\ttest: 0.9132279\tbest: 0.9132279 (15000)\ttotal: 2m 24s\tremaining: 29m 37s\n",
      "20000:\tlearn: 0.9319051\ttest: 0.9145735\tbest: 0.9145735 (20000)\ttotal: 3m 11s\tremaining: 28m 43s\n",
      "25000:\tlearn: 0.9335058\ttest: 0.9151518\tbest: 0.9151553 (24993)\ttotal: 3m 56s\tremaining: 27m 33s\n",
      "bestTest = 0.915412426\n",
      "bestIteration = 27738\n",
      "Shrink model to first 27739 iterations.\n"
     ]
    },
    {
     "name": "stderr",
     "output_type": "stream",
     "text": [
      "100%|██████████| 200/200 [00:17<00:00,  8.44it/s]\n",
      "100%|██████████| 200/200 [01:24<00:00,  1.50it/s]\n"
     ]
    },
    {
     "name": "stdout",
     "output_type": "stream",
     "text": [
      "Fold idx:3\n"
     ]
    },
    {
     "name": "stderr",
     "output_type": "stream",
     "text": [
      "100%|██████████| 200/200 [01:23<00:00,  1.40it/s]\n",
      "100%|██████████| 200/200 [00:19<00:00,  6.22it/s]\n"
     ]
    },
    {
     "name": "stdout",
     "output_type": "stream",
     "text": [
      "0:\tlearn: 0.5006047\ttest: 0.5002063\tbest: 0.5002063 (0)\ttotal: 11.6ms\tremaining: 38m 39s\n",
      "5000:\tlearn: 0.9110608\ttest: 0.9036845\tbest: 0.9036867 (4999)\ttotal: 46s\tremaining: 29m 52s\n",
      "10000:\tlearn: 0.9242120\ttest: 0.9146181\tbest: 0.9146181 (10000)\ttotal: 1m 32s\tremaining: 29m 26s\n",
      "15000:\tlearn: 0.9286343\ttest: 0.9174887\tbest: 0.9174925 (14969)\ttotal: 2m 18s\tremaining: 28m 29s\n",
      "20000:\tlearn: 0.9309280\ttest: 0.9185212\tbest: 0.9185338 (19672)\ttotal: 3m 6s\tremaining: 27m 56s\n",
      "25000:\tlearn: 0.9325321\ttest: 0.9189886\tbest: 0.9189886 (25000)\ttotal: 3m 52s\tremaining: 27m 9s\n",
      "30000:\tlearn: 0.9337587\ttest: 0.9192309\tbest: 0.9192346 (29986)\ttotal: 4m 38s\tremaining: 26m 19s\n",
      "35000:\tlearn: 0.9347235\ttest: 0.9193633\tbest: 0.9193927 (34615)\ttotal: 5m 25s\tremaining: 25m 33s\n",
      "bestTest = 0.9194000959\n",
      "bestIteration = 35501\n",
      "Shrink model to first 35502 iterations.\n"
     ]
    },
    {
     "name": "stderr",
     "output_type": "stream",
     "text": [
      "100%|██████████| 200/200 [00:17<00:00,  8.47it/s]\n",
      "100%|██████████| 200/200 [01:24<00:00,  1.50it/s]\n"
     ]
    },
    {
     "name": "stdout",
     "output_type": "stream",
     "text": [
      "Fold idx:4\n"
     ]
    },
    {
     "name": "stderr",
     "output_type": "stream",
     "text": [
      "100%|██████████| 200/200 [01:23<00:00,  1.26it/s]\n",
      "100%|██████████| 200/200 [00:20<00:00,  6.14it/s]\n"
     ]
    },
    {
     "name": "stdout",
     "output_type": "stream",
     "text": [
      "0:\tlearn: 0.5006255\ttest: 0.5001230\tbest: 0.5001230 (0)\ttotal: 12.5ms\tremaining: 41m 34s\n",
      "5000:\tlearn: 0.9104437\ttest: 0.9062429\tbest: 0.9062529 (4997)\ttotal: 46.6s\tremaining: 30m 15s\n",
      "10000:\tlearn: 0.9240581\ttest: 0.9166297\tbest: 0.9166297 (10000)\ttotal: 1m 33s\tremaining: 29m 33s\n",
      "15000:\tlearn: 0.9284055\ttest: 0.9189826\tbest: 0.9189907 (14910)\ttotal: 2m 19s\tremaining: 28m 40s\n",
      "20000:\tlearn: 0.9308148\ttest: 0.9200698\tbest: 0.9200705 (19995)\ttotal: 3m 5s\tremaining: 27m 50s\n",
      "25000:\tlearn: 0.9323762\ttest: 0.9205175\tbest: 0.9205199 (24989)\ttotal: 3m 52s\tremaining: 27m 10s\n",
      "30000:\tlearn: 0.9335913\ttest: 0.9207216\tbest: 0.9207250 (29956)\ttotal: 4m 39s\tremaining: 26m 26s\n",
      "35000:\tlearn: 0.9345304\ttest: 0.9208861\tbest: 0.9208926 (34803)\ttotal: 5m 26s\tremaining: 25m 36s\n",
      "bestTest = 0.9209322929\n",
      "bestIteration = 35993\n",
      "Shrink model to first 35994 iterations.\n"
     ]
    },
    {
     "name": "stderr",
     "output_type": "stream",
     "text": [
      "100%|██████████| 200/200 [00:17<00:00,  7.71it/s]\n",
      "100%|██████████| 200/200 [01:24<00:00,  1.48it/s]\n"
     ]
    },
    {
     "name": "stdout",
     "output_type": "stream",
     "text": [
      "Fold idx:5\n"
     ]
    },
    {
     "name": "stderr",
     "output_type": "stream",
     "text": [
      "100%|██████████| 200/200 [01:22<00:00,  1.39it/s]\n",
      "100%|██████████| 200/200 [00:19<00:00,  5.66it/s]\n"
     ]
    },
    {
     "name": "stdout",
     "output_type": "stream",
     "text": [
      "0:\tlearn: 0.5006356\ttest: 0.5000827\tbest: 0.5000827 (0)\ttotal: 10.9ms\tremaining: 36m 16s\n",
      "5000:\tlearn: 0.9115497\ttest: 0.9035952\tbest: 0.9035952 (5000)\ttotal: 48.2s\tremaining: 31m 19s\n",
      "10000:\tlearn: 0.9244413\ttest: 0.9147803\tbest: 0.9147803 (9999)\ttotal: 1m 36s\tremaining: 30m 29s\n",
      "15000:\tlearn: 0.9287002\ttest: 0.9177686\tbest: 0.9177710 (14999)\ttotal: 2m 22s\tremaining: 29m 17s\n",
      "20000:\tlearn: 0.9309794\ttest: 0.9190052\tbest: 0.9190144 (19972)\ttotal: 3m 10s\tremaining: 28m 30s\n",
      "25000:\tlearn: 0.9325782\ttest: 0.9195784\tbest: 0.9195784 (25000)\ttotal: 3m 55s\tremaining: 27m 31s\n",
      "30000:\tlearn: 0.9337433\ttest: 0.9199827\tbest: 0.9199885 (29968)\ttotal: 4m 41s\tremaining: 26m 36s\n",
      "35000:\tlearn: 0.9346794\ttest: 0.9200759\tbest: 0.9201120 (34603)\ttotal: 5m 28s\tremaining: 25m 50s\n",
      "bestTest = 0.9201120436\n",
      "bestIteration = 34603\n",
      "Shrink model to first 34604 iterations.\n"
     ]
    },
    {
     "name": "stderr",
     "output_type": "stream",
     "text": [
      "100%|██████████| 200/200 [00:17<00:00,  8.44it/s]\n",
      "100%|██████████| 200/200 [01:24<00:00,  1.50it/s]\n"
     ]
    },
    {
     "name": "stdout",
     "output_type": "stream",
     "text": [
      "Fold idx:1\n"
     ]
    },
    {
     "name": "stderr",
     "output_type": "stream",
     "text": [
      "100%|██████████| 200/200 [01:23<00:00,  1.32it/s]\n",
      "100%|██████████| 200/200 [00:20<00:00,  5.57it/s]\n"
     ]
    },
    {
     "name": "stdout",
     "output_type": "stream",
     "text": [
      "0:\tlearn: 0.5006251\ttest: 0.5001249\tbest: 0.5001249 (0)\ttotal: 10.2ms\tremaining: 34m 7s\n",
      "5000:\tlearn: 0.9116111\ttest: 0.9018823\tbest: 0.9018823 (5000)\ttotal: 47.5s\tremaining: 30m 52s\n",
      "10000:\tlearn: 0.9245886\ttest: 0.9130987\tbest: 0.9130987 (9999)\ttotal: 1m 34s\tremaining: 30m 4s\n",
      "15000:\tlearn: 0.9289383\ttest: 0.9162770\tbest: 0.9162789 (14988)\ttotal: 2m 21s\tremaining: 29m 3s\n",
      "20000:\tlearn: 0.9313692\ttest: 0.9175245\tbest: 0.9175249 (19996)\ttotal: 3m 8s\tremaining: 28m 16s\n",
      "25000:\tlearn: 0.9329447\ttest: 0.9180964\tbest: 0.9180974 (24999)\ttotal: 3m 54s\tremaining: 27m 24s\n",
      "30000:\tlearn: 0.9341401\ttest: 0.9184160\tbest: 0.9184163 (29997)\ttotal: 4m 40s\tremaining: 26m 26s\n",
      "bestTest = 0.9185055494\n",
      "bestIteration = 33095\n",
      "Shrink model to first 33096 iterations.\n"
     ]
    },
    {
     "name": "stderr",
     "output_type": "stream",
     "text": [
      "100%|██████████| 200/200 [00:17<00:00,  8.43it/s]\n",
      "100%|██████████| 200/200 [01:24<00:00,  1.50it/s]\n"
     ]
    },
    {
     "name": "stdout",
     "output_type": "stream",
     "text": [
      "Fold idx:2\n"
     ]
    },
    {
     "name": "stderr",
     "output_type": "stream",
     "text": [
      "100%|██████████| 200/200 [01:23<00:00,  1.36it/s]\n",
      "100%|██████████| 200/200 [00:20<00:00,  5.51it/s]\n"
     ]
    },
    {
     "name": "stdout",
     "output_type": "stream",
     "text": [
      "0:\tlearn: 0.5005045\ttest: 0.5006072\tbest: 0.5006072 (0)\ttotal: 11.8ms\tremaining: 39m 15s\n",
      "5000:\tlearn: 0.9114090\ttest: 0.9046431\tbest: 0.9046438 (4999)\ttotal: 46.8s\tremaining: 30m 26s\n",
      "10000:\tlearn: 0.9247279\ttest: 0.9147528\tbest: 0.9147529 (9992)\ttotal: 1m 34s\tremaining: 30m\n",
      "15000:\tlearn: 0.9291270\ttest: 0.9171062\tbest: 0.9171078 (14996)\ttotal: 2m 21s\tremaining: 29m 8s\n",
      "20000:\tlearn: 0.9315041\ttest: 0.9179859\tbest: 0.9179923 (19893)\ttotal: 3m 7s\tremaining: 28m 11s\n",
      "25000:\tlearn: 0.9331130\ttest: 0.9182504\tbest: 0.9182715 (24934)\ttotal: 3m 54s\tremaining: 27m 22s\n",
      "30000:\tlearn: 0.9343130\ttest: 0.9184184\tbest: 0.9184467 (29307)\ttotal: 4m 41s\tremaining: 26m 32s\n",
      "bestTest = 0.9184467494\n",
      "bestIteration = 29307\n",
      "Shrink model to first 29308 iterations.\n"
     ]
    },
    {
     "name": "stderr",
     "output_type": "stream",
     "text": [
      "100%|██████████| 200/200 [00:18<00:00,  7.84it/s]\n",
      "100%|██████████| 200/200 [01:25<00:00,  1.50it/s]\n"
     ]
    },
    {
     "name": "stdout",
     "output_type": "stream",
     "text": [
      "Fold idx:3\n"
     ]
    },
    {
     "name": "stderr",
     "output_type": "stream",
     "text": [
      "100%|██████████| 200/200 [01:23<00:00,  1.37it/s]\n",
      "100%|██████████| 200/200 [00:20<00:00,  6.06it/s]\n"
     ]
    },
    {
     "name": "stdout",
     "output_type": "stream",
     "text": [
      "0:\tlearn: 0.5004213\ttest: 0.5009400\tbest: 0.5009400 (0)\ttotal: 11ms\tremaining: 36m 44s\n",
      "5000:\tlearn: 0.9098891\ttest: 0.9065774\tbest: 0.9065780 (4998)\ttotal: 47.2s\tremaining: 30m 38s\n",
      "10000:\tlearn: 0.9231024\ttest: 0.9182640\tbest: 0.9182640 (10000)\ttotal: 1m 34s\tremaining: 29m 56s\n",
      "15000:\tlearn: 0.9275668\ttest: 0.9215872\tbest: 0.9215875 (14999)\ttotal: 2m 20s\tremaining: 28m 56s\n",
      "20000:\tlearn: 0.9298936\ttest: 0.9226838\tbest: 0.9226866 (19977)\ttotal: 3m 8s\tremaining: 28m 13s\n",
      "25000:\tlearn: 0.9314995\ttest: 0.9231888\tbest: 0.9231973 (24933)\ttotal: 3m 53s\tremaining: 27m 12s\n",
      "30000:\tlearn: 0.9326745\ttest: 0.9234711\tbest: 0.9234721 (29988)\ttotal: 4m 38s\tremaining: 26m 19s\n",
      "35000:\tlearn: 0.9336115\ttest: 0.9236298\tbest: 0.9236490 (34183)\ttotal: 5m 22s\tremaining: 25m 22s\n",
      "bestTest = 0.9236490428\n",
      "bestIteration = 34183\n",
      "Shrink model to first 34184 iterations.\n"
     ]
    },
    {
     "name": "stderr",
     "output_type": "stream",
     "text": [
      "100%|██████████| 200/200 [00:18<00:00,  8.37it/s]\n",
      "100%|██████████| 200/200 [01:25<00:00,  1.49it/s]\n"
     ]
    },
    {
     "name": "stdout",
     "output_type": "stream",
     "text": [
      "Fold idx:4\n"
     ]
    },
    {
     "name": "stderr",
     "output_type": "stream",
     "text": [
      "100%|██████████| 200/200 [01:24<00:00,  1.35it/s]\n",
      "100%|██████████| 200/200 [00:20<00:00,  5.98it/s]\n"
     ]
    },
    {
     "name": "stdout",
     "output_type": "stream",
     "text": [
      "0:\tlearn: 0.5004800\ttest: 0.5007054\tbest: 0.5007054 (0)\ttotal: 10.6ms\tremaining: 35m 15s\n",
      "5000:\tlearn: 0.9114280\ttest: 0.9021452\tbest: 0.9021497 (4998)\ttotal: 46.1s\tremaining: 29m 57s\n",
      "10000:\tlearn: 0.9245293\ttest: 0.9134278\tbest: 0.9134319 (9999)\ttotal: 1m 32s\tremaining: 29m 14s\n",
      "15000:\tlearn: 0.9288689\ttest: 0.9164436\tbest: 0.9164476 (14992)\ttotal: 2m 19s\tremaining: 28m 45s\n",
      "20000:\tlearn: 0.9312744\ttest: 0.9177918\tbest: 0.9177955 (19994)\ttotal: 3m 7s\tremaining: 28m 6s\n",
      "25000:\tlearn: 0.9328682\ttest: 0.9182472\tbest: 0.9182472 (25000)\ttotal: 3m 53s\tremaining: 27m 16s\n",
      "bestTest = 0.9183042049\n",
      "bestIteration = 25901\n",
      "Shrink model to first 25902 iterations.\n"
     ]
    },
    {
     "name": "stderr",
     "output_type": "stream",
     "text": [
      "100%|██████████| 200/200 [00:17<00:00,  8.42it/s]\n",
      "100%|██████████| 200/200 [01:24<00:00,  1.49it/s]\n"
     ]
    },
    {
     "name": "stdout",
     "output_type": "stream",
     "text": [
      "Fold idx:5\n"
     ]
    },
    {
     "name": "stderr",
     "output_type": "stream",
     "text": [
      "100%|██████████| 200/200 [01:24<00:00,  1.35it/s]\n",
      "100%|██████████| 200/200 [00:20<00:00,  6.23it/s]\n"
     ]
    },
    {
     "name": "stdout",
     "output_type": "stream",
     "text": [
      "0:\tlearn: 0.5005944\ttest: 0.5002475\tbest: 0.5002475 (0)\ttotal: 16.9ms\tremaining: 56m 17s\n",
      "5000:\tlearn: 0.9121132\ttest: 0.8993902\tbest: 0.8993942 (4997)\ttotal: 48.1s\tremaining: 31m 14s\n",
      "10000:\tlearn: 0.9250720\ttest: 0.9116746\tbest: 0.9116762 (9992)\ttotal: 1m 35s\tremaining: 30m 20s\n",
      "15000:\tlearn: 0.9293404\ttest: 0.9150252\tbest: 0.9150259 (14998)\ttotal: 2m 22s\tremaining: 29m 16s\n",
      "20000:\tlearn: 0.9316664\ttest: 0.9162859\tbest: 0.9162939 (19985)\ttotal: 3m 8s\tremaining: 28m 17s\n",
      "25000:\tlearn: 0.9331907\ttest: 0.9169751\tbest: 0.9169786 (24991)\ttotal: 3m 56s\tremaining: 27m 32s\n",
      "30000:\tlearn: 0.9343565\ttest: 0.9173765\tbest: 0.9173810 (29917)\ttotal: 4m 42s\tremaining: 26m 42s\n",
      "35000:\tlearn: 0.9353094\ttest: 0.9176589\tbest: 0.9176615 (34962)\ttotal: 5m 31s\tremaining: 26m 1s\n",
      "40000:\tlearn: 0.9360949\ttest: 0.9177826\tbest: 0.9177861 (39589)\ttotal: 6m 17s\tremaining: 25m 11s\n",
      "bestTest = 0.9178408384\n",
      "bestIteration = 42405\n",
      "Shrink model to first 42406 iterations.\n"
     ]
    },
    {
     "name": "stderr",
     "output_type": "stream",
     "text": [
      "100%|██████████| 200/200 [00:17<00:00,  8.46it/s]\n",
      "100%|██████████| 200/200 [01:24<00:00,  1.48it/s]\n"
     ]
    },
    {
     "name": "stdout",
     "output_type": "stream",
     "text": [
      "CPU times: user 1h 17min 26s, sys: 1h 8min, total: 2h 25min 27s\n",
      "Wall time: 1h 36min 48s\n"
     ]
    }
   ],
   "source": [
    "%%time\n",
    "\n",
    "num_folds = 5\n",
    "features = [c for c in train_df.columns if c not in ['ID_code', 'target']]\n",
    "print('Training the Model:')\n",
    "val_list = []\n",
    "predictions = []\n",
    "clf = ctb.CatBoostClassifier(**param)\n",
    "for i in range(2):\n",
    "    folds = StratifiedKFold(n_splits=num_folds, shuffle=True, random_state=SEED*i)\n",
    "    oof = np.zeros(len(train_df))\n",
    "    for fold_, (trn_idx, val_idx) in enumerate(folds.split(train_df.values, target.values)):\n",
    "        gc.collect()\n",
    "        print(\"Fold idx:{}\".format(fold_ + 1))\n",
    "        trn_data = add_features(train_df.iloc[trn_idx])\n",
    "        y_trn = trn_data['target']\n",
    "        features_ext = [c for c in trn_data.columns if c not in ['ID_code', 'target']]\n",
    "        trn_data = trn_data[features_ext]\n",
    "        val_data  = add_features(train_df.iloc[val_idx])\n",
    "        y_val = val_data['target']\n",
    "        val_data = val_data[features_ext]         \n",
    "        \n",
    "        clf.fit(X=trn_data, y=y_trn, eval_set=[(val_data, y_val)], verbose=5000, early_stopping_rounds = 1001) \n",
    "        del trn_data, val_data\n",
    "        gc.collect() \n",
    "        \n",
    "        train_data = add_features(train_df.iloc[val_idx])[features_ext]        \n",
    "        oof[val_idx] = clf.predict_proba(train_data)[:,1]\n",
    "        del train_data\n",
    "        gc.collect()\n",
    "        test_data = add_features(test_df)[features_ext]\n",
    "        predictions.append(clf.predict_proba(test_data)[:,1])  \n",
    "        del test_data\n",
    "        \n",
    "    val_list.append(oof)\n",
    "    \n",
    "oof = gmean(val_list, 0)\n",
    "predictions_gmean = gmean(predictions, 0)"
   ]
  },
  {
   "cell_type": "code",
   "execution_count": 16,
   "metadata": {},
   "outputs": [],
   "source": [
    "sub = pd.DataFrame({\"ID_code\": test_df.index.values})\n",
    "sub[\"target\"] = predictions_gmean\n",
    "sub.to_csv('submission_cb_{}_seed_v{}.csv'.format(SEED, VERSION), index=False)"
   ]
  },
  {
   "cell_type": "code",
   "execution_count": 17,
   "metadata": {},
   "outputs": [
    {
     "name": "stdout",
     "output_type": "stream",
     "text": [
      "CV score: 0.91992 \n"
     ]
    }
   ],
   "source": [
    "roc = roc_auc_score(target, oof)\n",
    "print(\"CV score: {:<8.5f}\".format(roc))"
   ]
  },
  {
   "cell_type": "code",
   "execution_count": 18,
   "metadata": {},
   "outputs": [],
   "source": [
    "oof_train = pd.DataFrame()\n",
    "oof_train[f'oof_cb_{num_folds}_{SEED}_{VERSION}'] = oof\n",
    "oof_test = pd.DataFrame()\n",
    "oof_test[f'oof_cb_{num_folds}_{SEED}_{VERSION}'] = predictions_gmean\n",
    "oof_train.to_csv('train_cb_roc_{}_seed_{}_v{}.csv'.format(\n",
    "    roc, SEED, VERSION), index=False)\n",
    "oof_test.to_csv('test_cb_roc_{}_seed_{}_v{}.csv'.format(\n",
    "    roc, SEED, VERSION), index=False)"
   ]
  }
 ],
 "metadata": {
  "kernelspec": {
   "display_name": "Python 3",
   "language": "python",
   "name": "python3"
  },
  "language_info": {
   "codemirror_mode": {
    "name": "ipython",
    "version": 3
   },
   "file_extension": ".py",
   "mimetype": "text/x-python",
   "name": "python",
   "nbconvert_exporter": "python",
   "pygments_lexer": "ipython3",
   "version": "3.6.4"
  }
 },
 "nbformat": 4,
 "nbformat_minor": 1
}
